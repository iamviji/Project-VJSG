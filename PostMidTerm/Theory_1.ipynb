{
  "nbformat": 4,
  "nbformat_minor": 0,
  "metadata": {
    "colab": {
      "name": "Theory-1.ipynb",
      "provenance": [],
      "collapsed_sections": [],
      "authorship_tag": "ABX9TyP1A9llKSyAdHDXYd0G+sGE",
      "include_colab_link": true
    },
    "kernelspec": {
      "name": "python3",
      "display_name": "Python 3"
    }
  },
  "cells": [
    {
      "cell_type": "markdown",
      "metadata": {
        "id": "view-in-github",
        "colab_type": "text"
      },
      "source": [
        "<a href=\"https://colab.research.google.com/github/iamviji/Project-VJSG/blob/master/PostMidTerm/Theory_1.ipynb\" target=\"_parent\"><img src=\"https://colab.research.google.com/assets/colab-badge.svg\" alt=\"Open In Colab\"/></a>"
      ]
    },
    {
      "cell_type": "code",
      "metadata": {
        "colab": {
          "base_uri": "https://localhost:8080/"
        },
        "id": "JhA53stPuyG0",
        "outputId": "4b2abd48-dcd8-40e7-d756-e60d58a35ccc"
      },
      "source": [
        "import math\n",
        "print (math.sin(math.pi/4))\n"
      ],
      "execution_count": 23,
      "outputs": [
        {
          "output_type": "stream",
          "text": [
            "0.7071067811865475\n"
          ],
          "name": "stdout"
        }
      ]
    },
    {
      "cell_type": "code",
      "metadata": {
        "id": "nga1w8Rzs_WZ",
        "colab": {
          "base_uri": "https://localhost:8080/"
        },
        "outputId": "d6440b0a-2e12-4921-996e-ebfa39646b9a"
      },
      "source": [
        "\n",
        "from numpy import sqrt\n",
        "from numpy.random import rand, randn\n",
        "import matplotlib.pyplot as plt\n",
        "  \n",
        "N = 5000000\n",
        "EbNodB_range = range(0,30)\n",
        "itr = len(EbNodB_range)\n",
        "ber1 = [None]*itr\n",
        "#R = math.log2(2)*math.sin(math.pi/2)\n",
        "R = math.sin(math.pi/2)\n",
        "print (\"R=\",R)\n",
        "for n in range (0, itr): \n",
        " \n",
        "    EbNodB = EbNodB_range[n]   \n",
        "    EbNo=10.0**(EbNodB/10.0) \n",
        "    x = 2 * (rand(N) >= 0.5) - 1\n",
        "    #print (x)\n",
        "    noise_std = 1/(R*sqrt(EbNo)) # 1/sqrt(2 x R x EbNo)\n",
        "    y = x + noise_std * randn(N)\n",
        "    y_d = 2 * (y >= 0) - 1\n",
        "    errors = (x != y_d).sum()\n",
        "    ber1[n] = 1.0 * errors / N\n",
        "    \n",
        "    print (\"EbNodB:\", EbNodB)\n",
        "    print (\"Error bits:\", errors)\n",
        "    print (\"Error probability:\", ber1[n])\n",
        "        \n"
      ],
      "execution_count": 74,
      "outputs": [
        {
          "output_type": "stream",
          "text": [
            "R= 1.0\n",
            "EbNodB: 0\n",
            "Error bits: 392930\n",
            "Error probability: 0.078586\n",
            "EbNodB: 1\n",
            "Error bits: 281020\n",
            "Error probability: 0.056204\n",
            "EbNodB: 2\n",
            "Error bits: 186876\n",
            "Error probability: 0.0373752\n",
            "EbNodB: 3\n",
            "Error bits: 114502\n",
            "Error probability: 0.0229004\n",
            "EbNodB: 4\n",
            "Error bits: 62670\n",
            "Error probability: 0.012534\n",
            "EbNodB: 5\n",
            "Error bits: 29561\n",
            "Error probability: 0.0059122\n",
            "EbNodB: 6\n",
            "Error bits: 12044\n",
            "Error probability: 0.0024088\n",
            "EbNodB: 7\n",
            "Error bits: 3836\n",
            "Error probability: 0.0007672\n",
            "EbNodB: 8\n",
            "Error bits: 941\n",
            "Error probability: 0.0001882\n",
            "EbNodB: 9\n",
            "Error bits: 155\n",
            "Error probability: 3.1e-05\n",
            "EbNodB: 10\n",
            "Error bits: 18\n",
            "Error probability: 3.6e-06\n",
            "EbNodB: 11\n",
            "Error bits: 0\n",
            "Error probability: 0.0\n",
            "EbNodB: 12\n",
            "Error bits: 0\n",
            "Error probability: 0.0\n",
            "EbNodB: 13\n",
            "Error bits: 0\n",
            "Error probability: 0.0\n",
            "EbNodB: 14\n",
            "Error bits: 0\n",
            "Error probability: 0.0\n",
            "EbNodB: 15\n",
            "Error bits: 0\n",
            "Error probability: 0.0\n",
            "EbNodB: 16\n",
            "Error bits: 0\n",
            "Error probability: 0.0\n",
            "EbNodB: 17\n",
            "Error bits: 0\n",
            "Error probability: 0.0\n",
            "EbNodB: 18\n",
            "Error bits: 0\n",
            "Error probability: 0.0\n",
            "EbNodB: 19\n",
            "Error bits: 0\n",
            "Error probability: 0.0\n",
            "EbNodB: 20\n",
            "Error bits: 0\n",
            "Error probability: 0.0\n",
            "EbNodB: 21\n",
            "Error bits: 0\n",
            "Error probability: 0.0\n",
            "EbNodB: 22\n",
            "Error bits: 0\n",
            "Error probability: 0.0\n",
            "EbNodB: 23\n",
            "Error bits: 0\n",
            "Error probability: 0.0\n",
            "EbNodB: 24\n",
            "Error bits: 0\n",
            "Error probability: 0.0\n",
            "EbNodB: 25\n",
            "Error bits: 0\n",
            "Error probability: 0.0\n",
            "EbNodB: 26\n",
            "Error bits: 0\n",
            "Error probability: 0.0\n",
            "EbNodB: 27\n",
            "Error bits: 0\n",
            "Error probability: 0.0\n",
            "EbNodB: 28\n",
            "Error bits: 0\n",
            "Error probability: 0.0\n",
            "EbNodB: 29\n",
            "Error bits: 0\n",
            "Error probability: 0.0\n"
          ],
          "name": "stdout"
        }
      ]
    },
    {
      "cell_type": "code",
      "metadata": {
        "id": "D-dpH17uz5lV",
        "colab": {
          "base_uri": "https://localhost:8080/",
          "height": 311
        },
        "outputId": "3df9b735-7436-474a-b905-81bbbca6e5f3"
      },
      "source": [
        "plt.plot(EbNodB_range, ber1, 'bo', EbNodB_range, ber1, 'k')\n",
        "plt.axis([0, 10, 1e-6, 0.1])\n",
        "plt.xscale('linear')\n",
        "plt.yscale('log')\n",
        "plt.xlabel('EbNo(dB)')\n",
        "plt.ylabel('BER')\n",
        "plt.grid(True)\n",
        "plt.title('BPSK Modulation')\n",
        "plt.show()\n",
        "print (ber1)"
      ],
      "execution_count": 75,
      "outputs": [
        {
          "output_type": "display_data",
          "data": {
            "image/png": "[encoded data removed]",
            "text/plain": [
              "<Figure size 432x288 with 1 Axes>"
            ]
          },
          "metadata": {
            "tags": [],
            "needs_background": "light"
          }
        },
        {
          "output_type": "stream",
          "text": [
            "[0.078586, 0.056204, 0.0373752, 0.0229004, 0.012534, 0.0059122, 0.0024088, 0.0007672, 0.0001882, 3.1e-05, 3.6e-06, 0.0, 0.0, 0.0, 0.0, 0.0, 0.0, 0.0, 0.0, 0.0, 0.0, 0.0, 0.0, 0.0, 0.0, 0.0, 0.0, 0.0, 0.0, 0.0]\n"
          ],
          "name": "stdout"
        }
      ]
    },
    {
      "cell_type": "code",
      "metadata": {
        "id": "Pny7wCHun0YJ"
      },
      "source": [
        ""
      ],
      "execution_count": 2,
      "outputs": []
    },
    {
      "cell_type": "code",
      "metadata": {
        "id": "Pb7oxtJ9tnZt",
        "colab": {
          "base_uri": "https://localhost:8080/"
        },
        "outputId": "c5288852-75d1-49a7-874e-8f089733c09e"
      },
      "source": [
        "from numpy import sqrt\n",
        "from numpy.random import rand, randn\n",
        "import matplotlib.pyplot as plt\n",
        "  \n",
        "N = 5000000\n",
        "EbNodB_range = range(0,30)\n",
        "itr = len(EbNodB_range)\n",
        "ber2 = [None]*itr\n",
        "R = 1/math.log2(4)*math.sin(math.pi/4)\n",
        "print (\"R=\",R)\n",
        "for n in range (0, itr): \n",
        " \n",
        "    EbNodB = EbNodB_range[n]   \n",
        "    EbNo=10.0**(EbNodB/10.0)\n",
        "    x = 2 * (rand(N) >= 0.5) - 1\n",
        "    noise_std = 1/sqrt(2*R*EbNo)\n",
        "    y = x + noise_std * randn(N)\n",
        "    y_d = 2 * (y >= 0) - 1\n",
        "    errors = (x != y_d).sum()\n",
        "    ber2[n] = 1.0 * errors / N\n",
        "    \n",
        "    print (\"EbNodB:\", EbNodB)\n",
        "    print (\"Error bits:\", errors)\n",
        "    print (\"Error probability:\", ber2[n])\n",
        "        \n"
      ],
      "execution_count": 76,
      "outputs": [
        {
          "output_type": "stream",
          "text": [
            "R= 0.35355339059327373\n",
            "EbNodB: 0\n",
            "Error bits: 1001315\n",
            "Error probability: 0.200263\n",
            "EbNodB: 1\n",
            "Error bits: 863283\n",
            "Error probability: 0.1726566\n",
            "EbNodB: 2\n",
            "Error bits: 724265\n",
            "Error probability: 0.144853\n",
            "EbNodB: 3\n",
            "Error bits: 586425\n",
            "Error probability: 0.117285\n",
            "EbNodB: 4\n",
            "Error bits: 456534\n",
            "Error probability: 0.0913068\n",
            "EbNodB: 5\n",
            "Error bits: 337579\n",
            "Error probability: 0.0675158\n",
            "EbNodB: 6\n",
            "Error bits: 233598\n",
            "Error probability: 0.0467196\n",
            "EbNodB: 7\n",
            "Error bits: 149341\n",
            "Error probability: 0.0298682\n",
            "EbNodB: 8\n",
            "Error bits: 86654\n",
            "Error probability: 0.0173308\n",
            "EbNodB: 9\n",
            "Error bits: 43999\n",
            "Error probability: 0.0087998\n",
            "EbNodB: 10\n",
            "Error bits: 19724\n",
            "Error probability: 0.0039448\n",
            "EbNodB: 11\n",
            "Error bits: 7122\n",
            "Error probability: 0.0014244\n",
            "EbNodB: 12\n",
            "Error bits: 2045\n",
            "Error probability: 0.000409\n",
            "EbNodB: 13\n",
            "Error bits: 377\n",
            "Error probability: 7.54e-05\n",
            "EbNodB: 14\n",
            "Error bits: 51\n",
            "Error probability: 1.02e-05\n",
            "EbNodB: 15\n",
            "Error bits: 8\n",
            "Error probability: 1.6e-06\n",
            "EbNodB: 16\n",
            "Error bits: 0\n",
            "Error probability: 0.0\n",
            "EbNodB: 17\n",
            "Error bits: 0\n",
            "Error probability: 0.0\n",
            "EbNodB: 18\n",
            "Error bits: 0\n",
            "Error probability: 0.0\n",
            "EbNodB: 19\n",
            "Error bits: 0\n",
            "Error probability: 0.0\n",
            "EbNodB: 20\n",
            "Error bits: 0\n",
            "Error probability: 0.0\n",
            "EbNodB: 21\n",
            "Error bits: 0\n",
            "Error probability: 0.0\n",
            "EbNodB: 22\n",
            "Error bits: 0\n",
            "Error probability: 0.0\n",
            "EbNodB: 23\n",
            "Error bits: 0\n",
            "Error probability: 0.0\n",
            "EbNodB: 24\n",
            "Error bits: 0\n",
            "Error probability: 0.0\n",
            "EbNodB: 25\n",
            "Error bits: 0\n",
            "Error probability: 0.0\n",
            "EbNodB: 26\n",
            "Error bits: 0\n",
            "Error probability: 0.0\n",
            "EbNodB: 27\n",
            "Error bits: 0\n",
            "Error probability: 0.0\n",
            "EbNodB: 28\n",
            "Error bits: 0\n",
            "Error probability: 0.0\n",
            "EbNodB: 29\n",
            "Error bits: 0\n",
            "Error probability: 0.0\n"
          ],
          "name": "stdout"
        }
      ]
    },
    {
      "cell_type": "code",
      "metadata": {
        "id": "83nv5LjGz8ez",
        "colab": {
          "base_uri": "https://localhost:8080/",
          "height": 295
        },
        "outputId": "7ef902c8-3556-4573-bfda-7f1532e9eb39"
      },
      "source": [
        "plt.plot(EbNodB_range, ber1, 'bo', EbNodB_range, ber1, 'k')\n",
        "plt.plot(EbNodB_range, ber2, 'bo', EbNodB_range, ber2, 'k')\n",
        "plt.axis([0, 20, 1e-6, 0.5])\n",
        "plt.xscale('linear')\n",
        "plt.yscale('log')\n",
        "plt.xlabel('EbNo(dB)')\n",
        "plt.ylabel('BER')\n",
        "plt.grid(True)\n",
        "plt.title('QPSK Modulation')\n",
        "plt.show()"
      ],
      "execution_count": 60,
      "outputs": [
        {
          "output_type": "display_data",
          "data": {
            "image/png": "[encoded data removed]",
            "text/plain": [
              "<Figure size 432x288 with 1 Axes>"
            ]
          },
          "metadata": {
            "tags": [],
            "needs_background": "light"
          }
        }
      ]
    },
    {
      "cell_type": "code",
      "metadata": {
        "id": "J0BtEhxpuXdr",
        "colab": {
          "base_uri": "https://localhost:8080/"
        },
        "outputId": "924b8492-c0af-43b1-895c-d79c4804b461"
      },
      "source": [
        "from numpy import sqrt\n",
        "from numpy.random import rand, randn\n",
        "import matplotlib.pyplot as plt\n",
        "  \n",
        "N = 5000000\n",
        "EbNodB_range = range(0,30)\n",
        "itr = len(EbNodB_range)\n",
        "ber3 = [None]*itr\n",
        "#R = math.sin(math.pi/8)\n",
        "R = 1/math.log2(8)*math.sin(math.pi/8)\n",
        "for n in range (0, itr): \n",
        " \n",
        "    EbNodB = EbNodB_range[n]   \n",
        "    EbNo=10.0**(EbNodB/10.0)\n",
        "    x = 2 * (rand(N) >= 0.5) - 1\n",
        "    noise_std = 1/sqrt(2*R*EbNo)\n",
        "    y = x + noise_std * randn(N)\n",
        "    y_d = 2 * (y >= 0) - 1\n",
        "    errors = (x != y_d).sum()\n",
        "    ber3[n] = 1.0 * errors / N\n",
        "    \n",
        "    print (\"EbNodB:\", EbNodB)\n",
        "    print (\"Error bits:\", errors)\n",
        "    print (\"Error probability:\", ber3[n])\n",
        "        \n"
      ],
      "execution_count": 61,
      "outputs": [
        {
          "output_type": "stream",
          "text": [
            "EbNodB: 0\n",
            "Error bits: 1532136\n",
            "Error probability: 0.3064272\n",
            "EbNodB: 1\n",
            "Error bits: 1427739\n",
            "Error probability: 0.2855478\n",
            "EbNodB: 2\n",
            "Error bits: 1312541\n",
            "Error probability: 0.2625082\n",
            "EbNodB: 3\n",
            "Error bits: 1188901\n",
            "Error probability: 0.2377802\n",
            "EbNodB: 4\n",
            "Error bits: 1057439\n",
            "Error probability: 0.2114878\n",
            "EbNodB: 5\n",
            "Error bits: 923389\n",
            "Error probability: 0.1846778\n",
            "EbNodB: 6\n",
            "Error bits: 783878\n",
            "Error probability: 0.1567756\n",
            "EbNodB: 7\n",
            "Error bits: 644186\n",
            "Error probability: 0.1288372\n",
            "EbNodB: 8\n",
            "Error bits: 510188\n",
            "Error probability: 0.1020376\n",
            "EbNodB: 9\n",
            "Error bits: 387357\n",
            "Error probability: 0.0774714\n",
            "EbNodB: 10\n",
            "Error bits: 274804\n",
            "Error probability: 0.0549608\n",
            "EbNodB: 11\n",
            "Error bits: 182557\n",
            "Error probability: 0.0365114\n",
            "EbNodB: 12\n",
            "Error bits: 110834\n",
            "Error probability: 0.0221668\n",
            "EbNodB: 13\n",
            "Error bits: 59946\n",
            "Error probability: 0.0119892\n",
            "EbNodB: 14\n",
            "Error bits: 28327\n",
            "Error probability: 0.0056654\n",
            "EbNodB: 15\n",
            "Error bits: 11316\n",
            "Error probability: 0.0022632\n",
            "EbNodB: 16\n",
            "Error bits: 3507\n",
            "Error probability: 0.0007014\n",
            "EbNodB: 17\n",
            "Error bits: 859\n",
            "Error probability: 0.0001718\n",
            "EbNodB: 18\n",
            "Error bits: 123\n",
            "Error probability: 2.46e-05\n",
            "EbNodB: 19\n",
            "Error bits: 19\n",
            "Error probability: 3.8e-06\n",
            "EbNodB: 20\n",
            "Error bits: 1\n",
            "Error probability: 2e-07\n",
            "EbNodB: 21\n",
            "Error bits: 0\n",
            "Error probability: 0.0\n",
            "EbNodB: 22\n",
            "Error bits: 0\n",
            "Error probability: 0.0\n",
            "EbNodB: 23\n",
            "Error bits: 0\n",
            "Error probability: 0.0\n",
            "EbNodB: 24\n",
            "Error bits: 0\n",
            "Error probability: 0.0\n",
            "EbNodB: 25\n",
            "Error bits: 0\n",
            "Error probability: 0.0\n",
            "EbNodB: 26\n",
            "Error bits: 0\n",
            "Error probability: 0.0\n",
            "EbNodB: 27\n",
            "Error bits: 0\n",
            "Error probability: 0.0\n",
            "EbNodB: 28\n",
            "Error bits: 0\n",
            "Error probability: 0.0\n",
            "EbNodB: 29\n",
            "Error bits: 0\n",
            "Error probability: 0.0\n"
          ],
          "name": "stdout"
        }
      ]
    },
    {
      "cell_type": "code",
      "metadata": {
        "id": "R6dhOzT41RE9",
        "colab": {
          "base_uri": "https://localhost:8080/",
          "height": 295
        },
        "outputId": "84272259-fd3a-4372-ce02-74c08795b5b5"
      },
      "source": [
        "plt.plot(EbNodB_range, ber1, 'bo', EbNodB_range, ber1, 'k')\n",
        "plt.plot(EbNodB_range, ber2, 'bo', EbNodB_range, ber2, 'k')\n",
        "plt.plot(EbNodB_range, ber3, 'bo', EbNodB_range, ber3, 'k')\n",
        "plt.axis([0, 30, 1e-6, 0.5])\n",
        "plt.xscale('linear')\n",
        "plt.yscale('log')\n",
        "plt.xlabel('EbNo(dB)')\n",
        "plt.ylabel('BER')\n",
        "plt.grid(True)\n",
        "plt.title('8PSK Modulation')\n",
        "plt.show()"
      ],
      "execution_count": 62,
      "outputs": [
        {
          "output_type": "display_data",
          "data": {
            "image/png": "[encoded data removed]",
            "text/plain": [
              "<Figure size 432x288 with 1 Axes>"
            ]
          },
          "metadata": {
            "tags": [],
            "needs_background": "light"
          }
        }
      ]
    },
    {
      "cell_type": "code",
      "metadata": {
        "id": "Gj5tEmHTFvJs",
        "colab": {
          "base_uri": "https://localhost:8080/"
        },
        "outputId": "e8ed9058-9156-4761-9f18-6abd71a52166"
      },
      "source": [
        "from numpy import sqrt\n",
        "from numpy.random import rand, randn\n",
        "import matplotlib.pyplot as plt\n",
        "  \n",
        "N = 5000000\n",
        "EbNodB_range = range(0,30)\n",
        "itr = len(EbNodB_range)\n",
        "ber4 = [None]*itr\n",
        "#R = math.sin(math.pi/16)\n",
        "R = 1/math.log2(16)*math.sin(math.pi/16)\n",
        "for n in range (0, itr): \n",
        " \n",
        "    EbNodB = EbNodB_range[n]   \n",
        "    EbNo=10.0**(EbNodB/10.0)\n",
        "    x = 2 * (rand(N) >= 0.5) - 1\n",
        "    noise_std = 1/sqrt(2*R*EbNo)\n",
        "    y = x + noise_std * randn(N)\n",
        "    y_d = 2 * (y >= 0) - 1\n",
        "    errors = (x != y_d).sum()\n",
        "    ber4[n] = 1.0 * errors / N\n",
        "    \n",
        "    print (\"EbNodB:\", EbNodB)\n",
        "    print (\"Error bits:\", errors)\n",
        "    print (\"Error probability:\", ber4[n])\n",
        "        \n"
      ],
      "execution_count": 63,
      "outputs": [
        {
          "output_type": "stream",
          "text": [
            "EbNodB: 0\n",
            "Error bits: 1887418\n",
            "Error probability: 0.3774836\n",
            "EbNodB: 1\n",
            "Error bits: 1814524\n",
            "Error probability: 0.3629048\n",
            "EbNodB: 2\n",
            "Error bits: 1736815\n",
            "Error probability: 0.347363\n",
            "EbNodB: 3\n",
            "Error bits: 1648927\n",
            "Error probability: 0.3297854\n",
            "EbNodB: 4\n",
            "Error bits: 1551585\n",
            "Error probability: 0.310317\n",
            "EbNodB: 5\n",
            "Error bits: 1445668\n",
            "Error probability: 0.2891336\n",
            "EbNodB: 6\n",
            "Error bits: 1332473\n",
            "Error probability: 0.2664946\n",
            "EbNodB: 7\n",
            "Error bits: 1212861\n",
            "Error probability: 0.2425722\n",
            "EbNodB: 8\n",
            "Error bits: 1083069\n",
            "Error probability: 0.2166138\n",
            "EbNodB: 9\n",
            "Error bits: 946997\n",
            "Error probability: 0.1893994\n",
            "EbNodB: 10\n",
            "Error bits: 807098\n",
            "Error probability: 0.1614196\n",
            "EbNodB: 11\n",
            "Error bits: 667620\n",
            "Error probability: 0.133524\n",
            "EbNodB: 12\n",
            "Error bits: 535176\n",
            "Error probability: 0.1070352\n",
            "EbNodB: 13\n",
            "Error bits: 407901\n",
            "Error probability: 0.0815802\n",
            "EbNodB: 14\n",
            "Error bits: 292881\n",
            "Error probability: 0.0585762\n",
            "EbNodB: 15\n",
            "Error bits: 196507\n",
            "Error probability: 0.0393014\n",
            "EbNodB: 16\n",
            "Error bits: 121794\n",
            "Error probability: 0.0243588\n",
            "EbNodB: 17\n",
            "Error bits: 67732\n",
            "Error probability: 0.0135464\n",
            "EbNodB: 18\n",
            "Error bits: 32445\n",
            "Error probability: 0.006489\n",
            "EbNodB: 19\n",
            "Error bits: 13633\n",
            "Error probability: 0.0027266\n",
            "EbNodB: 20\n",
            "Error bits: 4574\n",
            "Error probability: 0.0009148\n",
            "EbNodB: 21\n",
            "Error bits: 1222\n",
            "Error probability: 0.0002444\n",
            "EbNodB: 22\n",
            "Error bits: 189\n",
            "Error probability: 3.78e-05\n",
            "EbNodB: 23\n",
            "Error bits: 23\n",
            "Error probability: 4.6e-06\n",
            "EbNodB: 24\n",
            "Error bits: 1\n",
            "Error probability: 2e-07\n",
            "EbNodB: 25\n",
            "Error bits: 0\n",
            "Error probability: 0.0\n",
            "EbNodB: 26\n",
            "Error bits: 0\n",
            "Error probability: 0.0\n",
            "EbNodB: 27\n",
            "Error bits: 0\n",
            "Error probability: 0.0\n",
            "EbNodB: 28\n",
            "Error bits: 0\n",
            "Error probability: 0.0\n",
            "EbNodB: 29\n",
            "Error bits: 0\n",
            "Error probability: 0.0\n"
          ],
          "name": "stdout"
        }
      ]
    },
    {
      "cell_type": "code",
      "metadata": {
        "id": "PjEIfKNE1gjh",
        "colab": {
          "base_uri": "https://localhost:8080/",
          "height": 295
        },
        "outputId": "555e2bcc-e237-4002-fcbf-2ae62213190a"
      },
      "source": [
        "plt.plot(EbNodB_range, ber1, 'bo', EbNodB_range, ber1, 'k')\n",
        "plt.plot(EbNodB_range, ber2, 'bo', EbNodB_range, ber2, 'k')\n",
        "plt.plot(EbNodB_range, ber3, 'bo', EbNodB_range, ber3, 'k')\n",
        "plt.plot(EbNodB_range, ber4, 'bo', EbNodB_range, ber4, 'k')\n",
        "plt.axis([0, 30, 1e-6, 0.5])\n",
        "plt.xscale('linear')\n",
        "plt.yscale('log')\n",
        "plt.xlabel('EbNo(dB)')\n",
        "plt.ylabel('BER')\n",
        "plt.grid(True)\n",
        "plt.title('16PSK Modulation')\n",
        "plt.show()"
      ],
      "execution_count": 64,
      "outputs": [
        {
          "output_type": "display_data",
          "data": {
            "image/png": "[encoded data removed]",
            "text/plain": [
              "<Figure size 432x288 with 1 Axes>"
            ]
          },
          "metadata": {
            "tags": [],
            "needs_background": "light"
          }
        }
      ]
    },
    {
      "cell_type": "code",
      "metadata": {
        "id": "vlS2VSx7F5Xq",
        "colab": {
          "base_uri": "https://localhost:8080/"
        },
        "outputId": "ad61cc4c-590f-4b46-cf0a-cea636eac2a6"
      },
      "source": [
        "from numpy import sqrt\n",
        "from numpy.random import rand, randn\n",
        "import matplotlib.pyplot as plt\n",
        "  \n",
        "N = 5000000\n",
        "EbNodB_range = range(0,30)\n",
        "itr = len(EbNodB_range)\n",
        "ber5 = [None]*itr\n",
        "R = 1/math.log2(32)*math.sin(math.pi/32)\n",
        "for n in range (0, itr): \n",
        " \n",
        "    EbNodB = EbNodB_range[n]   \n",
        "    EbNo=10.0**(EbNodB/10.0)\n",
        "    x = 2 * (rand(N) >= 0.5) - 1\n",
        "    noise_std = 1/sqrt(2*R*EbNo)\n",
        "    y = x + noise_std * randn(N)\n",
        "    y_d = 2 * (y >= 0) - 1\n",
        "    errors = (x != y_d).sum()\n",
        "    ber5[n] = 1.0 * errors / N\n",
        "    \n",
        "    print (\"EbNodB:\", EbNodB)\n",
        "    print (\"Error bits:\", errors)\n",
        "    print (\"Error probability:\", ber5[n])\n",
        "        \n"
      ],
      "execution_count": 65,
      "outputs": [
        {
          "output_type": "stream",
          "text": [
            "EbNodB: 0\n",
            "Error bits: 2106148\n",
            "Error probability: 0.4212296\n",
            "EbNodB: 1\n",
            "Error bits: 2059590\n",
            "Error probability: 0.411918\n",
            "EbNodB: 2\n",
            "Error bits: 2010492\n",
            "Error probability: 0.4020984\n",
            "EbNodB: 3\n",
            "Error bits: 1950377\n",
            "Error probability: 0.3900754\n",
            "EbNodB: 4\n",
            "Error bits: 1885117\n",
            "Error probability: 0.3770234\n",
            "EbNodB: 5\n",
            "Error bits: 1813750\n",
            "Error probability: 0.36275\n",
            "EbNodB: 6\n",
            "Error bits: 1732927\n",
            "Error probability: 0.3465854\n",
            "EbNodB: 7\n",
            "Error bits: 1643824\n",
            "Error probability: 0.3287648\n",
            "EbNodB: 8\n",
            "Error bits: 1545048\n",
            "Error probability: 0.3090096\n",
            "EbNodB: 9\n",
            "Error bits: 1441884\n",
            "Error probability: 0.2883768\n",
            "EbNodB: 10\n",
            "Error bits: 1326962\n",
            "Error probability: 0.2653924\n",
            "EbNodB: 11\n",
            "Error bits: 1205163\n",
            "Error probability: 0.2410326\n",
            "EbNodB: 12\n",
            "Error bits: 1075157\n",
            "Error probability: 0.2150314\n",
            "EbNodB: 13\n",
            "Error bits: 941821\n",
            "Error probability: 0.1883642\n",
            "EbNodB: 14\n",
            "Error bits: 802320\n",
            "Error probability: 0.160464\n",
            "EbNodB: 15\n",
            "Error bits: 663073\n",
            "Error probability: 0.1326146\n",
            "EbNodB: 16\n",
            "Error bits: 530009\n",
            "Error probability: 0.1060018\n",
            "EbNodB: 17\n",
            "Error bits: 402839\n",
            "Error probability: 0.0805678\n",
            "EbNodB: 18\n",
            "Error bits: 289012\n",
            "Error probability: 0.0578024\n",
            "EbNodB: 19\n",
            "Error bits: 193389\n",
            "Error probability: 0.0386778\n",
            "EbNodB: 20\n",
            "Error bits: 119419\n",
            "Error probability: 0.0238838\n",
            "EbNodB: 21\n",
            "Error bits: 66289\n",
            "Error probability: 0.0132578\n",
            "EbNodB: 22\n",
            "Error bits: 32002\n",
            "Error probability: 0.0064004\n",
            "EbNodB: 23\n",
            "Error bits: 13031\n",
            "Error probability: 0.0026062\n",
            "EbNodB: 24\n",
            "Error bits: 4241\n",
            "Error probability: 0.0008482\n",
            "EbNodB: 25\n",
            "Error bits: 1076\n",
            "Error probability: 0.0002152\n",
            "EbNodB: 26\n",
            "Error bits: 192\n",
            "Error probability: 3.84e-05\n",
            "EbNodB: 27\n",
            "Error bits: 25\n",
            "Error probability: 5e-06\n",
            "EbNodB: 28\n",
            "Error bits: 1\n",
            "Error probability: 2e-07\n",
            "EbNodB: 29\n",
            "Error bits: 0\n",
            "Error probability: 0.0\n"
          ],
          "name": "stdout"
        }
      ]
    },
    {
      "cell_type": "code",
      "metadata": {
        "id": "IIzyVg0K24kl",
        "colab": {
          "base_uri": "https://localhost:8080/",
          "height": 295
        },
        "outputId": "0e552849-8c09-4d12-822b-074911618079"
      },
      "source": [
        "plt.plot(EbNodB_range, ber1, 'bo', EbNodB_range, ber1, 'k')\n",
        "plt.plot(EbNodB_range, ber2, 'bo', EbNodB_range, ber2, 'k')\n",
        "plt.plot(EbNodB_range, ber3, 'bo', EbNodB_range, ber3, 'k')\n",
        "plt.plot(EbNodB_range, ber4, 'bo', EbNodB_range, ber4, 'k')\n",
        "plt.plot(EbNodB_range, ber5, 'bo', EbNodB_range, ber5, 'k')\n",
        "plt.axis([0, 30, 1e-6, 0.5])\n",
        "plt.xscale('linear')\n",
        "plt.yscale('log')\n",
        "plt.xlabel('EbNo(dB)')\n",
        "plt.ylabel('BER')\n",
        "plt.grid(True)\n",
        "plt.title('QPSK Modulation')\n",
        "plt.show()"
      ],
      "execution_count": 66,
      "outputs": [
        {
          "output_type": "display_data",
          "data": {
            "image/png": "[encoded data removed]",
            "text/plain": [
              "<Figure size 432x288 with 1 Axes>"
            ]
          },
          "metadata": {
            "tags": [],
            "needs_background": "light"
          }
        }
      ]
    }
  ]
}