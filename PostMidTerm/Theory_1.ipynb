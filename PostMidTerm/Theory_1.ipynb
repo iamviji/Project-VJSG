{
  "nbformat": 4,
  "nbformat_minor": 0,
  "metadata": {
    "colab": {
      "name": "Theory-1.ipynb",
      "provenance": [],
      "collapsed_sections": [],
      "include_colab_link": true
    },
    "kernelspec": {
      "name": "python3",
      "display_name": "Python 3"
    }
  },
  "cells": [
    {
      "cell_type": "markdown",
      "metadata": {
        "id": "view-in-github",
        "colab_type": "text"
      },
      "source": [
        "<a href=\"https://colab.research.google.com/github/iamviji/Project-VJSG/blob/master/PostMidTerm/Theory_1.ipynb\" target=\"_parent\"><img src=\"https://colab.research.google.com/assets/colab-badge.svg\" alt=\"Open In Colab\"/></a>"
      ]
    },
    {
      "cell_type": "code",
      "metadata": {
        "colab": {
          "base_uri": "https://localhost:8080/"
        },
        "id": "JhA53stPuyG0",
        "outputId": "a6e98218-ce8d-469c-ee81-d9cefd6cf82b"
      },
      "source": [
        "import math\n",
        "print (math.sin(math.pi/4))\n"
      ],
      "execution_count": 12,
      "outputs": [
        {
          "output_type": "stream",
          "text": [
            "0.7071067811865475\n"
          ],
          "name": "stdout"
        }
      ]
    },
    {
      "cell_type": "code",
      "metadata": {
        "id": "nga1w8Rzs_WZ",
        "colab": {
          "base_uri": "https://localhost:8080/"
        },
        "outputId": "e089ac09-7b2e-493e-e22c-95c3275f5c9a"
      },
      "source": [
        "\n",
        "from numpy import sqrt\n",
        "from numpy.random import rand, randn\n",
        "import matplotlib.pyplot as plt\n",
        "  \n",
        "N = 5000000\n",
        "EbNodB_range = range(0,30)\n",
        "itr = len(EbNodB_range)\n",
        "ber1 = [None]*itr\n",
        "#R = math.log2(2)*math.sin(math.pi/2)\n",
        "R = 1/math.log2(2)*math.sin(math.pi/2)\n",
        "\n",
        "print (\"R=\",R)\n",
        "for n in range (0, itr): \n",
        " \n",
        "    EbNodB = EbNodB_range[n]   \n",
        "    EbNo=10.0**(EbNodB/10.0) \n",
        "    x = 2 * (rand(N) >= 0.5) - 1\n",
        "    #print (x)\n",
        "    noise_std = 1/(sqrt(2*R*EbNo)) # 1/sqrt(2 x R x EbNo)\n",
        "    y = x + noise_std * randn(N)\n",
        "    y_d = 2 * (y >= 0) - 1\n",
        "    errors = (x != y_d).sum()\n",
        "    ber1[n] = 1.0 * errors / N\n",
        "    \n",
        "    print (\"EbNodB:\", EbNodB)\n",
        "    print (\"Error bits:\", errors)\n",
        "    print (\"Error probability:\", ber1[n])\n",
        "        \n"
      ],
      "execution_count": 27,
      "outputs": [
        {
          "output_type": "stream",
          "text": [
            "R= 1.0\n",
            "EbNodB: 0\n",
            "Error bits: 392855\n",
            "Error probability: 0.078571\n",
            "EbNodB: 1\n",
            "Error bits: 280854\n",
            "Error probability: 0.0561708\n",
            "EbNodB: 2\n",
            "Error bits: 186791\n",
            "Error probability: 0.0373582\n",
            "EbNodB: 3\n",
            "Error bits: 114762\n",
            "Error probability: 0.0229524\n",
            "EbNodB: 4\n",
            "Error bits: 62829\n",
            "Error probability: 0.0125658\n",
            "EbNodB: 5\n",
            "Error bits: 29558\n",
            "Error probability: 0.0059116\n",
            "EbNodB: 6\n",
            "Error bits: 11765\n",
            "Error probability: 0.002353\n",
            "EbNodB: 7\n",
            "Error bits: 3921\n",
            "Error probability: 0.0007842\n",
            "EbNodB: 8\n",
            "Error bits: 984\n",
            "Error probability: 0.0001968\n",
            "EbNodB: 9\n",
            "Error bits: 162\n",
            "Error probability: 3.24e-05\n",
            "EbNodB: 10\n",
            "Error bits: 26\n",
            "Error probability: 5.2e-06\n",
            "EbNodB: 11\n",
            "Error bits: 3\n",
            "Error probability: 6e-07\n",
            "EbNodB: 12\n",
            "Error bits: 0\n",
            "Error probability: 0.0\n",
            "EbNodB: 13\n",
            "Error bits: 0\n",
            "Error probability: 0.0\n",
            "EbNodB: 14\n",
            "Error bits: 0\n",
            "Error probability: 0.0\n",
            "EbNodB: 15\n",
            "Error bits: 0\n",
            "Error probability: 0.0\n",
            "EbNodB: 16\n",
            "Error bits: 0\n",
            "Error probability: 0.0\n",
            "EbNodB: 17\n",
            "Error bits: 0\n",
            "Error probability: 0.0\n",
            "EbNodB: 18\n",
            "Error bits: 0\n",
            "Error probability: 0.0\n",
            "EbNodB: 19\n",
            "Error bits: 0\n",
            "Error probability: 0.0\n",
            "EbNodB: 20\n",
            "Error bits: 0\n",
            "Error probability: 0.0\n",
            "EbNodB: 21\n",
            "Error bits: 0\n",
            "Error probability: 0.0\n",
            "EbNodB: 22\n",
            "Error bits: 0\n",
            "Error probability: 0.0\n",
            "EbNodB: 23\n",
            "Error bits: 0\n",
            "Error probability: 0.0\n",
            "EbNodB: 24\n",
            "Error bits: 0\n",
            "Error probability: 0.0\n",
            "EbNodB: 25\n",
            "Error bits: 0\n",
            "Error probability: 0.0\n",
            "EbNodB: 26\n",
            "Error bits: 0\n",
            "Error probability: 0.0\n",
            "EbNodB: 27\n",
            "Error bits: 0\n",
            "Error probability: 0.0\n",
            "EbNodB: 28\n",
            "Error bits: 0\n",
            "Error probability: 0.0\n",
            "EbNodB: 29\n",
            "Error bits: 0\n",
            "Error probability: 0.0\n"
          ],
          "name": "stdout"
        }
      ]
    },
    {
      "cell_type": "code",
      "metadata": {
        "id": "D-dpH17uz5lV",
        "colab": {
          "base_uri": "https://localhost:8080/",
          "height": 311
        },
        "outputId": "351f6898-bd32-4a3b-8d94-ec0ea4716257"
      },
      "source": [
        "plt.plot(EbNodB_range, ber1, 'bo', EbNodB_range, ber1, 'k')\n",
        "plt.axis([0, 10, 1e-6, 0.1])\n",
        "plt.xscale('linear')\n",
        "plt.yscale('log')\n",
        "plt.xlabel('EbNo(dB)')\n",
        "plt.ylabel('BER')\n",
        "plt.grid(True)\n",
        "plt.title('BPSK Modulation')\n",
        "plt.show()\n",
        "print (ber1)"
      ],
      "execution_count": 28,
      "outputs": [
        {
          "output_type": "display_data",
          "data": {
            "image/png": "[encoded data removed]",
            "text/plain": [
              "<Figure size 432x288 with 1 Axes>"
            ]
          },
          "metadata": {
            "tags": [],
            "needs_background": "light"
          }
        },
        {
          "output_type": "stream",
          "text": [
            "[0.078571, 0.0561708, 0.0373582, 0.0229524, 0.0125658, 0.0059116, 0.002353, 0.0007842, 0.0001968, 3.24e-05, 5.2e-06, 6e-07, 0.0, 0.0, 0.0, 0.0, 0.0, 0.0, 0.0, 0.0, 0.0, 0.0, 0.0, 0.0, 0.0, 0.0, 0.0, 0.0, 0.0, 0.0]\n"
          ],
          "name": "stdout"
        }
      ]
    },
    {
      "cell_type": "code",
      "metadata": {
        "id": "Pny7wCHun0YJ"
      },
      "source": [
        ""
      ],
      "execution_count": 14,
      "outputs": []
    },
    {
      "cell_type": "code",
      "metadata": {
        "id": "Pb7oxtJ9tnZt",
        "colab": {
          "base_uri": "https://localhost:8080/"
        },
        "outputId": "fbc1dd78-1785-4366-cb86-656e00c32e80"
      },
      "source": [
        "from numpy import sqrt\n",
        "from numpy.random import rand, randn\n",
        "import matplotlib.pyplot as plt\n",
        "  \n",
        "N = 5000000\n",
        "EbNodB_range = range(0,30)\n",
        "itr = len(EbNodB_range)\n",
        "ber2 = [None]*itr\n",
        "R = 1/math.log2(4)*math.sin(math.pi/4)\n",
        "print (\"R=\",R)\n",
        "for n in range (0, itr): \n",
        " \n",
        "    EbNodB = EbNodB_range[n]   \n",
        "    EbNo=10.0**(EbNodB/10.0)\n",
        "    x = 2 * (rand(N) >= 0.5) - 1\n",
        "    noise_std = 1/sqrt(2*R*EbNo)\n",
        "    y = x + noise_std * randn(N)\n",
        "    y_d = 2 * (y >= 0) - 1\n",
        "    errors = (x != y_d).sum()\n",
        "    ber2[n] = 1.0 * errors / N\n",
        "    \n",
        "    print (\"EbNodB:\", EbNodB)\n",
        "    print (\"Error bits:\", errors)\n",
        "    print (\"Error probability:\", ber2[n])\n",
        "        \n"
      ],
      "execution_count": 15,
      "outputs": [
        {
          "output_type": "stream",
          "text": [
            "R= 0.35355339059327373\n",
            "EbNodB: 0\n",
            "Error bits: 1000211\n",
            "Error probability: 0.2000422\n",
            "EbNodB: 1\n",
            "Error bits: 863124\n",
            "Error probability: 0.1726248\n",
            "EbNodB: 2\n",
            "Error bits: 724195\n",
            "Error probability: 0.144839\n",
            "EbNodB: 3\n",
            "Error bits: 587912\n",
            "Error probability: 0.1175824\n",
            "EbNodB: 4\n",
            "Error bits: 456061\n",
            "Error probability: 0.0912122\n",
            "EbNodB: 5\n",
            "Error bits: 338221\n",
            "Error probability: 0.0676442\n",
            "EbNodB: 6\n",
            "Error bits: 233732\n",
            "Error probability: 0.0467464\n",
            "EbNodB: 7\n",
            "Error bits: 149085\n",
            "Error probability: 0.029817\n",
            "EbNodB: 8\n",
            "Error bits: 86607\n",
            "Error probability: 0.0173214\n",
            "EbNodB: 9\n",
            "Error bits: 44066\n",
            "Error probability: 0.0088132\n",
            "EbNodB: 10\n",
            "Error bits: 19675\n",
            "Error probability: 0.003935\n",
            "EbNodB: 11\n",
            "Error bits: 7172\n",
            "Error probability: 0.0014344\n",
            "EbNodB: 12\n",
            "Error bits: 1985\n",
            "Error probability: 0.000397\n",
            "EbNodB: 13\n",
            "Error bits: 429\n",
            "Error probability: 8.58e-05\n",
            "EbNodB: 14\n",
            "Error bits: 56\n",
            "Error probability: 1.12e-05\n",
            "EbNodB: 15\n",
            "Error bits: 5\n",
            "Error probability: 1e-06\n",
            "EbNodB: 16\n",
            "Error bits: 0\n",
            "Error probability: 0.0\n",
            "EbNodB: 17\n",
            "Error bits: 0\n",
            "Error probability: 0.0\n",
            "EbNodB: 18\n",
            "Error bits: 0\n",
            "Error probability: 0.0\n",
            "EbNodB: 19\n",
            "Error bits: 0\n",
            "Error probability: 0.0\n",
            "EbNodB: 20\n",
            "Error bits: 0\n",
            "Error probability: 0.0\n",
            "EbNodB: 21\n",
            "Error bits: 0\n",
            "Error probability: 0.0\n",
            "EbNodB: 22\n",
            "Error bits: 0\n",
            "Error probability: 0.0\n",
            "EbNodB: 23\n",
            "Error bits: 0\n",
            "Error probability: 0.0\n",
            "EbNodB: 24\n",
            "Error bits: 0\n",
            "Error probability: 0.0\n",
            "EbNodB: 25\n",
            "Error bits: 0\n",
            "Error probability: 0.0\n",
            "EbNodB: 26\n",
            "Error bits: 0\n",
            "Error probability: 0.0\n",
            "EbNodB: 27\n",
            "Error bits: 0\n",
            "Error probability: 0.0\n",
            "EbNodB: 28\n",
            "Error bits: 0\n",
            "Error probability: 0.0\n",
            "EbNodB: 29\n",
            "Error bits: 0\n",
            "Error probability: 0.0\n"
          ],
          "name": "stdout"
        }
      ]
    },
    {
      "cell_type": "code",
      "metadata": {
        "id": "83nv5LjGz8ez",
        "colab": {
          "base_uri": "https://localhost:8080/",
          "height": 295
        },
        "outputId": "9e8f9c19-95ec-45fe-f0da-cb55504ab368"
      },
      "source": [
        "plt.plot(EbNodB_range, ber1, 'bo', EbNodB_range, ber1, 'k')\n",
        "plt.plot(EbNodB_range, ber2, 'bo', EbNodB_range, ber2, 'k')\n",
        "plt.axis([0, 20, 1e-6, 0.5])\n",
        "plt.xscale('linear')\n",
        "plt.yscale('log')\n",
        "plt.xlabel('EbNo(dB)')\n",
        "plt.ylabel('BER')\n",
        "plt.grid(True)\n",
        "plt.title('QPSK Modulation')\n",
        "plt.show()"
      ],
      "execution_count": 29,
      "outputs": [
        {
          "output_type": "display_data",
          "data": {
            "image/png": "[encoded data removed]",
            "text/plain": [
              "<Figure size 432x288 with 1 Axes>"
            ]
          },
          "metadata": {
            "tags": [],
            "needs_background": "light"
          }
        }
      ]
    },
    {
      "cell_type": "code",
      "metadata": {
        "id": "J0BtEhxpuXdr",
        "colab": {
          "base_uri": "https://localhost:8080/"
        },
        "outputId": "4db9ca84-1035-4996-da6e-e776a7573d39"
      },
      "source": [
        "from numpy import sqrt\n",
        "from numpy.random import rand, randn\n",
        "import matplotlib.pyplot as plt\n",
        "  \n",
        "N = 5000000\n",
        "EbNodB_range = range(0,30)\n",
        "itr = len(EbNodB_range)\n",
        "ber3 = [None]*itr\n",
        "#R = math.sin(math.pi/8)\n",
        "R = 1/math.log2(8)*math.sin(math.pi/8)\n",
        "for n in range (0, itr): \n",
        " \n",
        "    EbNodB = EbNodB_range[n]   \n",
        "    EbNo=10.0**(EbNodB/10.0)\n",
        "    x = 2 * (rand(N) >= 0.5) - 1\n",
        "    noise_std = 1/sqrt(2*R*EbNo)\n",
        "    y = x + noise_std * randn(N)\n",
        "    y_d = 2 * (y >= 0) - 1\n",
        "    errors = (x != y_d).sum()\n",
        "    ber3[n] = 1.0 * errors / N\n",
        "    \n",
        "    print (\"EbNodB:\", EbNodB)\n",
        "    print (\"Error bits:\", errors)\n",
        "    print (\"Error probability:\", ber3[n])\n",
        "        \n"
      ],
      "execution_count": 17,
      "outputs": [
        {
          "output_type": "stream",
          "text": [
            "EbNodB: 0\n",
            "Error bits: 1534820\n",
            "Error probability: 0.306964\n",
            "EbNodB: 1\n",
            "Error bits: 1427628\n",
            "Error probability: 0.2855256\n",
            "EbNodB: 2\n",
            "Error bits: 1311518\n",
            "Error probability: 0.2623036\n",
            "EbNodB: 3\n",
            "Error bits: 1190694\n",
            "Error probability: 0.2381388\n",
            "EbNodB: 4\n",
            "Error bits: 1057471\n",
            "Error probability: 0.2114942\n",
            "EbNodB: 5\n",
            "Error bits: 923377\n",
            "Error probability: 0.1846754\n",
            "EbNodB: 6\n",
            "Error bits: 785108\n",
            "Error probability: 0.1570216\n",
            "EbNodB: 7\n",
            "Error bits: 644929\n",
            "Error probability: 0.1289858\n",
            "EbNodB: 8\n",
            "Error bits: 511304\n",
            "Error probability: 0.1022608\n",
            "EbNodB: 9\n",
            "Error bits: 386184\n",
            "Error probability: 0.0772368\n",
            "EbNodB: 10\n",
            "Error bits: 275509\n",
            "Error probability: 0.0551018\n",
            "EbNodB: 11\n",
            "Error bits: 183291\n",
            "Error probability: 0.0366582\n",
            "EbNodB: 12\n",
            "Error bits: 111187\n",
            "Error probability: 0.0222374\n",
            "EbNodB: 13\n",
            "Error bits: 60160\n",
            "Error probability: 0.012032\n",
            "EbNodB: 14\n",
            "Error bits: 28476\n",
            "Error probability: 0.0056952\n",
            "EbNodB: 15\n",
            "Error bits: 11198\n",
            "Error probability: 0.0022396\n",
            "EbNodB: 16\n",
            "Error bits: 3639\n",
            "Error probability: 0.0007278\n",
            "EbNodB: 17\n",
            "Error bits: 857\n",
            "Error probability: 0.0001714\n",
            "EbNodB: 18\n",
            "Error bits: 151\n",
            "Error probability: 3.02e-05\n",
            "EbNodB: 19\n",
            "Error bits: 10\n",
            "Error probability: 2e-06\n",
            "EbNodB: 20\n",
            "Error bits: 1\n",
            "Error probability: 2e-07\n",
            "EbNodB: 21\n",
            "Error bits: 0\n",
            "Error probability: 0.0\n",
            "EbNodB: 22\n",
            "Error bits: 0\n",
            "Error probability: 0.0\n",
            "EbNodB: 23\n",
            "Error bits: 0\n",
            "Error probability: 0.0\n",
            "EbNodB: 24\n",
            "Error bits: 0\n",
            "Error probability: 0.0\n",
            "EbNodB: 25\n",
            "Error bits: 0\n",
            "Error probability: 0.0\n",
            "EbNodB: 26\n",
            "Error bits: 0\n",
            "Error probability: 0.0\n",
            "EbNodB: 27\n",
            "Error bits: 0\n",
            "Error probability: 0.0\n",
            "EbNodB: 28\n",
            "Error bits: 0\n",
            "Error probability: 0.0\n",
            "EbNodB: 29\n",
            "Error bits: 0\n",
            "Error probability: 0.0\n"
          ],
          "name": "stdout"
        }
      ]
    },
    {
      "cell_type": "code",
      "metadata": {
        "id": "R6dhOzT41RE9",
        "colab": {
          "base_uri": "https://localhost:8080/",
          "height": 295
        },
        "outputId": "fec88acf-ea59-4b90-bc2c-4d127397d84e"
      },
      "source": [
        "plt.plot(EbNodB_range, ber1, 'bo', EbNodB_range, ber1, 'k')\n",
        "plt.plot(EbNodB_range, ber2, 'bo', EbNodB_range, ber2, 'k')\n",
        "plt.plot(EbNodB_range, ber3, 'bo', EbNodB_range, ber3, 'k')\n",
        "plt.axis([0, 30, 1e-6, 0.5])\n",
        "plt.xscale('linear')\n",
        "plt.yscale('log')\n",
        "plt.xlabel('EbNo(dB)')\n",
        "plt.ylabel('BER')\n",
        "plt.grid(True)\n",
        "plt.title('8PSK Modulation')\n",
        "plt.show()"
      ],
      "execution_count": 30,
      "outputs": [
        {
          "output_type": "display_data",
          "data": {
            "image/png": "[encoded data removed]",
            "text/plain": [
              "<Figure size 432x288 with 1 Axes>"
            ]
          },
          "metadata": {
            "tags": [],
            "needs_background": "light"
          }
        }
      ]
    },
    {
      "cell_type": "code",
      "metadata": {
        "id": "Gj5tEmHTFvJs",
        "colab": {
          "base_uri": "https://localhost:8080/"
        },
        "outputId": "43a20813-4c3b-4b65-f4a2-41d2a092841e"
      },
      "source": [
        "from numpy import sqrt\n",
        "from numpy.random import rand, randn\n",
        "import matplotlib.pyplot as plt\n",
        "  \n",
        "N = 5000000\n",
        "EbNodB_range = range(0,30)\n",
        "itr = len(EbNodB_range)\n",
        "ber4 = [None]*itr\n",
        "#R = math.sin(math.pi/16)\n",
        "R = 1/math.log2(16)*math.sin(math.pi/16)\n",
        "for n in range (0, itr): \n",
        " \n",
        "    EbNodB = EbNodB_range[n]   \n",
        "    EbNo=10.0**(EbNodB/10.0)\n",
        "    x = 2 * (rand(N) >= 0.5) - 1\n",
        "    noise_std = 1/sqrt(2*R*EbNo)\n",
        "    y = x + noise_std * randn(N)\n",
        "    y_d = 2 * (y >= 0) - 1\n",
        "    errors = (x != y_d).sum()\n",
        "    ber4[n] = 1.0 * errors / N\n",
        "    \n",
        "    print (\"EbNodB:\", EbNodB)\n",
        "    print (\"Error bits:\", errors)\n",
        "    print (\"Error probability:\", ber4[n])\n",
        "        \n"
      ],
      "execution_count": 19,
      "outputs": [
        {
          "output_type": "stream",
          "text": [
            "EbNodB: 0\n",
            "Error bits: 1887252\n",
            "Error probability: 0.3774504\n",
            "EbNodB: 1\n",
            "Error bits: 1813447\n",
            "Error probability: 0.3626894\n",
            "EbNodB: 2\n",
            "Error bits: 1734264\n",
            "Error probability: 0.3468528\n",
            "EbNodB: 3\n",
            "Error bits: 1647415\n",
            "Error probability: 0.329483\n",
            "EbNodB: 4\n",
            "Error bits: 1551320\n",
            "Error probability: 0.310264\n",
            "EbNodB: 5\n",
            "Error bits: 1446671\n",
            "Error probability: 0.2893342\n",
            "EbNodB: 6\n",
            "Error bits: 1334683\n",
            "Error probability: 0.2669366\n",
            "EbNodB: 7\n",
            "Error bits: 1210909\n",
            "Error probability: 0.2421818\n",
            "EbNodB: 8\n",
            "Error bits: 1081160\n",
            "Error probability: 0.216232\n",
            "EbNodB: 9\n",
            "Error bits: 947048\n",
            "Error probability: 0.1894096\n",
            "EbNodB: 10\n",
            "Error bits: 807599\n",
            "Error probability: 0.1615198\n",
            "EbNodB: 11\n",
            "Error bits: 669210\n",
            "Error probability: 0.133842\n",
            "EbNodB: 12\n",
            "Error bits: 534833\n",
            "Error probability: 0.1069666\n",
            "EbNodB: 13\n",
            "Error bits: 407350\n",
            "Error probability: 0.08147\n",
            "EbNodB: 14\n",
            "Error bits: 293952\n",
            "Error probability: 0.0587904\n",
            "EbNodB: 15\n",
            "Error bits: 198028\n",
            "Error probability: 0.0396056\n",
            "EbNodB: 16\n",
            "Error bits: 121610\n",
            "Error probability: 0.024322\n",
            "EbNodB: 17\n",
            "Error bits: 67655\n",
            "Error probability: 0.013531\n",
            "EbNodB: 18\n",
            "Error bits: 32804\n",
            "Error probability: 0.0065608\n",
            "EbNodB: 19\n",
            "Error bits: 13595\n",
            "Error probability: 0.002719\n",
            "EbNodB: 20\n",
            "Error bits: 4439\n",
            "Error probability: 0.0008878\n",
            "EbNodB: 21\n",
            "Error bits: 1130\n",
            "Error probability: 0.000226\n",
            "EbNodB: 22\n",
            "Error bits: 211\n",
            "Error probability: 4.22e-05\n",
            "EbNodB: 23\n",
            "Error bits: 25\n",
            "Error probability: 5e-06\n",
            "EbNodB: 24\n",
            "Error bits: 4\n",
            "Error probability: 8e-07\n",
            "EbNodB: 25\n",
            "Error bits: 0\n",
            "Error probability: 0.0\n",
            "EbNodB: 26\n",
            "Error bits: 0\n",
            "Error probability: 0.0\n",
            "EbNodB: 27\n",
            "Error bits: 0\n",
            "Error probability: 0.0\n",
            "EbNodB: 28\n",
            "Error bits: 0\n",
            "Error probability: 0.0\n",
            "EbNodB: 29\n",
            "Error bits: 0\n",
            "Error probability: 0.0\n"
          ],
          "name": "stdout"
        }
      ]
    },
    {
      "cell_type": "code",
      "metadata": {
        "id": "PjEIfKNE1gjh",
        "colab": {
          "base_uri": "https://localhost:8080/",
          "height": 295
        },
        "outputId": "15c24dca-051b-4082-93f2-e574f3c0b5a7"
      },
      "source": [
        "plt.plot(EbNodB_range, ber1, 'bo', EbNodB_range, ber1, 'k')\n",
        "plt.plot(EbNodB_range, ber2, 'bo', EbNodB_range, ber2, 'k')\n",
        "plt.plot(EbNodB_range, ber3, 'bo', EbNodB_range, ber3, 'k')\n",
        "plt.plot(EbNodB_range, ber4, 'bo', EbNodB_range, ber4, 'k')\n",
        "plt.axis([0, 30, 1e-6, 0.5])\n",
        "plt.xscale('linear')\n",
        "plt.yscale('log')\n",
        "plt.xlabel('EbNo(dB)')\n",
        "plt.ylabel('BER')\n",
        "plt.grid(True)\n",
        "plt.title('16PSK Modulation')\n",
        "plt.show()"
      ],
      "execution_count": 31,
      "outputs": [
        {
          "output_type": "display_data",
          "data": {
            "image/png": "[encoded data removed]",
            "text/plain": [
              "<Figure size 432x288 with 1 Axes>"
            ]
          },
          "metadata": {
            "tags": [],
            "needs_background": "light"
          }
        }
      ]
    },
    {
      "cell_type": "code",
      "metadata": {
        "id": "vlS2VSx7F5Xq",
        "colab": {
          "base_uri": "https://localhost:8080/"
        },
        "outputId": "43254d0b-4321-4e42-c06e-bc2610e9d53e"
      },
      "source": [
        "from numpy import sqrt\n",
        "from numpy.random import rand, randn\n",
        "import matplotlib.pyplot as plt\n",
        "  \n",
        "N = 5000000\n",
        "EbNodB_range = range(0,30)\n",
        "itr = len(EbNodB_range)\n",
        "ber5 = [None]*itr\n",
        "R = 1/math.log2(32)*math.sin(math.pi/32)\n",
        "for n in range (0, itr): \n",
        " \n",
        "    EbNodB = EbNodB_range[n]   \n",
        "    EbNo=10.0**(EbNodB/10.0)\n",
        "    x = 2 * (rand(N) >= 0.5) - 1\n",
        "    noise_std = 1/sqrt(2*R*EbNo)\n",
        "    y = x + noise_std * randn(N)\n",
        "    y_d = 2 * (y >= 0) - 1\n",
        "    errors = (x != y_d).sum()\n",
        "    ber5[n] = 1.0 * errors / N\n",
        "    \n",
        "    print (\"EbNodB:\", EbNodB)\n",
        "    print (\"Error bits:\", errors)\n",
        "    print (\"Error probability:\", ber5[n])\n",
        "        \n"
      ],
      "execution_count": 21,
      "outputs": [
        {
          "output_type": "stream",
          "text": [
            "EbNodB: 0\n",
            "Error bits: 2109238\n",
            "Error probability: 0.4218476\n",
            "EbNodB: 1\n",
            "Error bits: 2060262\n",
            "Error probability: 0.4120524\n",
            "EbNodB: 2\n",
            "Error bits: 2007613\n",
            "Error probability: 0.4015226\n",
            "EbNodB: 3\n",
            "Error bits: 1948458\n",
            "Error probability: 0.3896916\n",
            "EbNodB: 4\n",
            "Error bits: 1883877\n",
            "Error probability: 0.3767754\n",
            "EbNodB: 5\n",
            "Error bits: 1813134\n",
            "Error probability: 0.3626268\n",
            "EbNodB: 6\n",
            "Error bits: 1732272\n",
            "Error probability: 0.3464544\n",
            "EbNodB: 7\n",
            "Error bits: 1644183\n",
            "Error probability: 0.3288366\n",
            "EbNodB: 8\n",
            "Error bits: 1548368\n",
            "Error probability: 0.3096736\n",
            "EbNodB: 9\n",
            "Error bits: 1441741\n",
            "Error probability: 0.2883482\n",
            "EbNodB: 10\n",
            "Error bits: 1328783\n",
            "Error probability: 0.2657566\n",
            "EbNodB: 11\n",
            "Error bits: 1205539\n",
            "Error probability: 0.2411078\n",
            "EbNodB: 12\n",
            "Error bits: 1076513\n",
            "Error probability: 0.2153026\n",
            "EbNodB: 13\n",
            "Error bits: 941377\n",
            "Error probability: 0.1882754\n",
            "EbNodB: 14\n",
            "Error bits: 803588\n",
            "Error probability: 0.1607176\n",
            "EbNodB: 15\n",
            "Error bits: 664200\n",
            "Error probability: 0.13284\n",
            "EbNodB: 16\n",
            "Error bits: 528710\n",
            "Error probability: 0.105742\n",
            "EbNodB: 17\n",
            "Error bits: 401111\n",
            "Error probability: 0.0802222\n",
            "EbNodB: 18\n",
            "Error bits: 289500\n",
            "Error probability: 0.0579\n",
            "EbNodB: 19\n",
            "Error bits: 194375\n",
            "Error probability: 0.038875\n",
            "EbNodB: 20\n",
            "Error bits: 118702\n",
            "Error probability: 0.0237404\n",
            "EbNodB: 21\n",
            "Error bits: 65535\n",
            "Error probability: 0.013107\n",
            "EbNodB: 22\n",
            "Error bits: 31899\n",
            "Error probability: 0.0063798\n",
            "EbNodB: 23\n",
            "Error bits: 12907\n",
            "Error probability: 0.0025814\n",
            "EbNodB: 24\n",
            "Error bits: 4361\n",
            "Error probability: 0.0008722\n",
            "EbNodB: 25\n",
            "Error bits: 1038\n",
            "Error probability: 0.0002076\n",
            "EbNodB: 26\n",
            "Error bits: 185\n",
            "Error probability: 3.7e-05\n",
            "EbNodB: 27\n",
            "Error bits: 14\n",
            "Error probability: 2.8e-06\n",
            "EbNodB: 28\n",
            "Error bits: 1\n",
            "Error probability: 2e-07\n",
            "EbNodB: 29\n",
            "Error bits: 0\n",
            "Error probability: 0.0\n"
          ],
          "name": "stdout"
        }
      ]
    },
    {
      "cell_type": "code",
      "metadata": {
        "id": "IIzyVg0K24kl",
        "colab": {
          "base_uri": "https://localhost:8080/",
          "height": 295
        },
        "outputId": "a7b432dc-ad56-4aa3-9fec-d13ba3e9e692"
      },
      "source": [
        "plt.plot(EbNodB_range, ber1, 'bo', EbNodB_range, ber1, 'k')\n",
        "plt.plot(EbNodB_range, ber2, 'bo', EbNodB_range, ber2, 'k')\n",
        "plt.plot(EbNodB_range, ber3, 'bo', EbNodB_range, ber3, 'k')\n",
        "plt.plot(EbNodB_range, ber4, 'bo', EbNodB_range, ber4, 'k')\n",
        "plt.plot(EbNodB_range, ber5, 'bo', EbNodB_range, ber5, 'k')\n",
        "plt.axis([0, 30, 1e-6, 0.5])\n",
        "plt.xscale('linear')\n",
        "plt.yscale('log')\n",
        "plt.xlabel('EbNo(dB)')\n",
        "plt.ylabel('BER')\n",
        "plt.grid(True)\n",
        "plt.title('QPSK Modulation')\n",
        "plt.show()"
      ],
      "execution_count": 22,
      "outputs": [
        {
          "output_type": "display_data",
          "data": {
            "image/png": "[encoded data removed]",
            "text/plain": [
              "<Figure size 432x288 with 1 Axes>"
            ]
          },
          "metadata": {
            "tags": [],
            "needs_background": "light"
          }
        }
      ]
    }
  ]
}